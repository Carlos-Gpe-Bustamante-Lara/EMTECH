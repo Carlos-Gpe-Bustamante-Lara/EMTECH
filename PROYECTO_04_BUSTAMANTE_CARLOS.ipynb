{
  "nbformat": 4,
  "nbformat_minor": 0,
  "metadata": {
    "colab": {
      "name": "Copia de Copia de Untitled5.ipynb",
      "provenance": [],
      "collapsed_sections": []
    },
    "kernelspec": {
      "name": "python3",
      "display_name": "Python 3"
    },
    "language_info": {
      "name": "python"
    }
  },
  "cells": [
    {
      "cell_type": "markdown",
      "source": [
        "primero importamos las librerias requeridas sobre todo la que usaremos en este caso especial 'BeautifulSoup'"
      ],
      "metadata": {
        "id": "NO8i417CVlGE"
      }
    },
    {
      "cell_type": "code",
      "execution_count": 227,
      "metadata": {
        "id": "gpRnjaYbc7yI"
      },
      "outputs": [],
      "source": [
        "from bs4 import BeautifulSoup\n",
        "import requests\n",
        "import pandas as pd\n",
        "import numpy as np"
      ]
    },
    {
      "cell_type": "markdown",
      "source": [
        "extramos el contenido de la pagina"
      ],
      "metadata": {
        "id": "CDVoBYg7VuU2"
      }
    },
    {
      "cell_type": "code",
      "source": [
        "page = requests.get('https://www.zonaturistica.com/restaurantes/sinaloa/mazatlan')"
      ],
      "metadata": {
        "id": "wJnJ52bpdTYy"
      },
      "execution_count": 193,
      "outputs": []
    },
    {
      "cell_type": "markdown",
      "source": [
        "colocamos el contenido en una variable y lo convertimos en string indicandole a la funcion que se trata de un html"
      ],
      "metadata": {
        "id": "wHX4hP6NV_jm"
      }
    },
    {
      "cell_type": "code",
      "source": [
        "soup = BeautifulSoup(page.content, 'html.parser')"
      ],
      "metadata": {
        "id": "lVtWKV41dgus"
      },
      "execution_count": 194,
      "outputs": []
    },
    {
      "cell_type": "markdown",
      "source": [
        "colocamos en un variable la informacion que queremos obtener de la pagina en este caso es la etiqueta a con nombre de clase 'txt-title lh-100 aqua nombre'"
      ],
      "metadata": {
        "id": "1vuRtJf8WmgL"
      }
    },
    {
      "cell_type": "code",
      "source": [
        "res = soup.find_all('a', class_='txt-title lh-100 aqua nombre')"
      ],
      "metadata": {
        "id": "j1uXGY8XdrDU"
      },
      "execution_count": 195,
      "outputs": []
    },
    {
      "cell_type": "code",
      "source": [
        "print(res)"
      ],
      "metadata": {
        "id": "dzj704rmhDKR"
      },
      "execution_count": null,
      "outputs": []
    },
    {
      "cell_type": "code",
      "source": [
        "restaurantes = list()"
      ],
      "metadata": {
        "id": "3zBnubtyd4VC"
      },
      "execution_count": 313,
      "outputs": []
    },
    {
      "cell_type": "markdown",
      "source": [
        "colocamos los textos de las etiquetas en una lista"
      ],
      "metadata": {
        "id": "tZGeDNTiXTRD"
      }
    },
    {
      "cell_type": "code",
      "source": [
        "x = 0\n",
        "for i in res:\n",
        "  if x > -1:\n",
        "   restaurantes.append(i.text.strip())\n",
        "  x += 1\n"
      ],
      "metadata": {
        "id": "wyU_Tspfgok8"
      },
      "execution_count": 314,
      "outputs": []
    },
    {
      "cell_type": "code",
      "source": [
        "print(restaurantes)"
      ],
      "metadata": {
        "colab": {
          "base_uri": "https://localhost:8080/"
        },
        "id": "my4hiPTrgzlZ",
        "outputId": "a0802917-c7d2-4856-ade4-16587a3dff45"
      },
      "execution_count": 315,
      "outputs": [
        {
          "output_type": "stream",
          "name": "stdout",
          "text": [
            "['Angelinas Kitchen', 'La Costa Marinera', 'Pedro y Lola', 'Los Arcos', 'La Mona Pizzeria', 'Panchos', 'Casa 46', 'El Muchacho Alegre', 'Topolo', 'El Guamuchilito', 'El Presidio', 'Mr. Lionso Playa Bruja', 'El Mesón de los Laureanos', 'El Cuchupetas']\n"
          ]
        }
      ]
    },
    {
      "cell_type": "markdown",
      "source": [
        "mismo procedimiento extramos la informacion de la etiqueta que queremos"
      ],
      "metadata": {
        "id": "IjSmcCaBXWOH"
      }
    },
    {
      "cell_type": "code",
      "source": [
        "prom = soup.find_all('span', class_='lh-100')"
      ],
      "metadata": {
        "id": "qnOc4MAUuItZ"
      },
      "execution_count": 199,
      "outputs": []
    },
    {
      "cell_type": "code",
      "source": [
        "print(prom)"
      ],
      "metadata": {
        "id": "u3i40rdiunUA"
      },
      "execution_count": null,
      "outputs": []
    },
    {
      "cell_type": "code",
      "source": [
        "consumoPromedio = list()"
      ],
      "metadata": {
        "id": "FpfAYl7WuwwF"
      },
      "execution_count": 308,
      "outputs": []
    },
    {
      "cell_type": "markdown",
      "source": [
        "lo agregamos en otra lista"
      ],
      "metadata": {
        "id": "WZncxKZVXcpE"
      }
    },
    {
      "cell_type": "code",
      "source": [
        "x = 0\n",
        "for i in prom:\n",
        "  if x < 14:\n",
        "    consumoPromedio.append(pd.to_numeric(i.text.strip()))\n",
        "  x += 1"
      ],
      "metadata": {
        "id": "5QYA0_l9u30n"
      },
      "execution_count": 309,
      "outputs": []
    },
    {
      "cell_type": "code",
      "source": [
        "print(consumoPromedio)"
      ],
      "metadata": {
        "colab": {
          "base_uri": "https://localhost:8080/"
        },
        "id": "VRkRu2Phu9s6",
        "outputId": "98edf29f-5bf0-4d17-8c53-05f925149895"
      },
      "execution_count": 310,
      "outputs": [
        {
          "output_type": "stream",
          "name": "stdout",
          "text": [
            "[350, 430, 375, 400, 420, 325, 600, 300, 350, 340, 300, 375, 260, 325]\n"
          ]
        }
      ]
    },
    {
      "cell_type": "markdown",
      "source": [
        "mismo procedimiento extramos la informacion de la etiqueta que queremos pero en este caso las etiquetas cuentas con 2 nombres de clase diferente"
      ],
      "metadata": {
        "id": "JmEydTxtXiPL"
      }
    },
    {
      "cell_type": "code",
      "source": [
        "tags = soup.find_all('a', {'class': ['rating stars-45', 'rating stars-40']})"
      ],
      "metadata": {
        "id": "0JuGnsqUw-4t"
      },
      "execution_count": 203,
      "outputs": []
    },
    {
      "cell_type": "code",
      "source": [
        "print(tags)"
      ],
      "metadata": {
        "id": "WnRIZjo7I7yu"
      },
      "execution_count": null,
      "outputs": []
    },
    {
      "cell_type": "code",
      "source": [
        "opiniones = list()"
      ],
      "metadata": {
        "id": "MtRnNWHaLRV0"
      },
      "execution_count": 238,
      "outputs": []
    },
    {
      "cell_type": "markdown",
      "source": [
        "en caso no queremos el texto de la etiqueta 'a' si no el titulo(title) y lo colocamos en una lista\n",
        "\n",
        "1.   Elemento de la lista\n",
        "2.   Elemento de la lista\n",
        "\n"
      ],
      "metadata": {
        "id": "7e-loje9XpA-"
      }
    },
    {
      "cell_type": "code",
      "source": [
        "x=0\n",
        "for tag in tags:\n",
        "  if x < 14:\n",
        "    opiniones.append(tag.get('title'))\n",
        "    x += 1"
      ],
      "metadata": {
        "id": "ch1atC4kK_Mc"
      },
      "execution_count": 239,
      "outputs": []
    },
    {
      "cell_type": "code",
      "source": [
        "print(opiniones, len(opiniones))"
      ],
      "metadata": {
        "colab": {
          "base_uri": "https://localhost:8080/"
        },
        "id": "kspdSLMlLhg7",
        "outputId": "ed3ac539-6e8d-41ef-b651-4aa82ddec315"
      },
      "execution_count": 240,
      "outputs": [
        {
          "output_type": "stream",
          "name": "stdout",
          "text": [
            "['584 opiniones', '456 opiniones', '393 opiniones', '343 opiniones', '73 opiniones', '1981 opiniones', '420 opiniones', '468 opiniones', '1107 opiniones', '87 opiniones', '990 opiniones', '1442 opiniones', '225 opiniones', '208 opiniones'] 14\n"
          ]
        }
      ]
    },
    {
      "cell_type": "markdown",
      "source": [
        "separamos el texto de los numeros con la funcion split"
      ],
      "metadata": {
        "id": "u647sSmubzLG"
      }
    },
    {
      "cell_type": "code",
      "source": [
        "opi = list()\n",
        "for x in opiniones:\n",
        "  opi.append(x.split(' '))"
      ],
      "metadata": {
        "id": "13CkPFDhZ_Hu"
      },
      "execution_count": 241,
      "outputs": []
    },
    {
      "cell_type": "markdown",
      "source": [
        "la funcion split nos crea vectores con los numeros y el texto"
      ],
      "metadata": {
        "id": "GQ0m7pz6b4JC"
      }
    },
    {
      "cell_type": "code",
      "source": [
        "print(opi)"
      ],
      "metadata": {
        "colab": {
          "base_uri": "https://localhost:8080/"
        },
        "id": "RGnFfXq4aQoY",
        "outputId": "604d8da3-84bc-41ce-97d3-4955d5b22486"
      },
      "execution_count": 242,
      "outputs": [
        {
          "output_type": "stream",
          "name": "stdout",
          "text": [
            "[['584', 'opiniones'], ['456', 'opiniones'], ['393', 'opiniones'], ['343', 'opiniones'], ['73', 'opiniones'], ['1981', 'opiniones'], ['420', 'opiniones'], ['468', 'opiniones'], ['1107', 'opiniones'], ['87', 'opiniones'], ['990', 'opiniones'], ['1442', 'opiniones'], ['225', 'opiniones'], ['208', 'opiniones']]\n"
          ]
        }
      ]
    },
    {
      "cell_type": "markdown",
      "source": [
        "quitamos el texto de los vectores con la funcion delete de la libreria numpy"
      ],
      "metadata": {
        "id": "EZsV5aIecBdr"
      }
    },
    {
      "cell_type": "code",
      "source": [
        "opi2 = list()\n",
        "opiniones = list()\n",
        "for x in opi:\n",
        "  opi2 = np.delete(x, 1)\n",
        "  opiniones.append(pd.to_numeric(opi2[0]))"
      ],
      "metadata": {
        "id": "VKb23D5aasu3"
      },
      "execution_count": 304,
      "outputs": []
    },
    {
      "cell_type": "code",
      "source": [
        "print(opiniones)"
      ],
      "metadata": {
        "colab": {
          "base_uri": "https://localhost:8080/"
        },
        "id": "5X1XMGQ6a5LE",
        "outputId": "3d2065f2-2cb5-4d09-a629-c1b6aa203ea1"
      },
      "execution_count": 305,
      "outputs": [
        {
          "output_type": "stream",
          "name": "stdout",
          "text": [
            "[584, 456, 393, 343, 73, 1981, 420, 468, 1107, 87, 990, 1442, 225, 208]\n"
          ]
        }
      ]
    },
    {
      "cell_type": "code",
      "source": [
        "calificacion = list()"
      ],
      "metadata": {
        "id": "TIhQ6IbNOJwF"
      },
      "execution_count": 207,
      "outputs": []
    },
    {
      "cell_type": "markdown",
      "source": [
        "ahora si queremos el texto de la etiqueta 'a' procedemos a colocarlo en una lista"
      ],
      "metadata": {
        "id": "1qn2YAM3X5Eb"
      }
    },
    {
      "cell_type": "code",
      "source": [
        "x=0\n",
        "for tag in tags:\n",
        "  if x < 14:\n",
        "    calificacion.append(tag.text.strip())\n",
        "    x += 1"
      ],
      "metadata": {
        "id": "AttZvK8sORMj"
      },
      "execution_count": 208,
      "outputs": []
    },
    {
      "cell_type": "code",
      "source": [
        "\n",
        "print(calificacion, len(calificacion))\n",
        "cali = list()"
      ],
      "metadata": {
        "colab": {
          "base_uri": "https://localhost:8080/",
          "height": 0
        },
        "id": "rTX8RCPJOY6D",
        "outputId": "12d20a7f-9f8a-4172-ef67-33f6fbd00274"
      },
      "execution_count": 209,
      "outputs": [
        {
          "output_type": "stream",
          "name": "stdout",
          "text": [
            "['4.5\\nver opiniones', '4\\nver opiniones', '4\\nver opiniones', '4.5\\nver opiniones', '4.5\\nver opiniones', '4.5\\nver opiniones', '4.5\\nver opiniones', '4\\nver opiniones', '4.5\\nver opiniones', '4\\nver opiniones', '4.5\\nver opiniones', '4\\nver opiniones', '4.5\\nver opiniones', '4.5\\nver opiniones'] 14\n"
          ]
        }
      ]
    },
    {
      "cell_type": "markdown",
      "source": [
        "en este caso lo que obtuvismo trae texto sobrante asi que pasamos a quitarlo para ello creamos otra lista para colocarle solo la parte del texto que necesitamos usando la funcion split()."
      ],
      "metadata": {
        "id": "vda6hCLQYMDs"
      }
    },
    {
      "cell_type": "code",
      "source": [
        "for x in calificacion:\n",
        "  cali.append(x.split('\\n'))"
      ],
      "metadata": {
        "id": "03R1QTiXPlpC"
      },
      "execution_count": 210,
      "outputs": []
    },
    {
      "cell_type": "code",
      "source": [
        "print(cali)"
      ],
      "metadata": {
        "colab": {
          "base_uri": "https://localhost:8080/",
          "height": 0
        },
        "id": "QGoN76ZpP9sk",
        "outputId": "8abf9747-f272-4e21-dac8-f34301a1f0c1"
      },
      "execution_count": 211,
      "outputs": [
        {
          "output_type": "stream",
          "name": "stdout",
          "text": [
            "[['4.5', 'ver opiniones'], ['4', 'ver opiniones'], ['4', 'ver opiniones'], ['4.5', 'ver opiniones'], ['4.5', 'ver opiniones'], ['4.5', 'ver opiniones'], ['4.5', 'ver opiniones'], ['4', 'ver opiniones'], ['4.5', 'ver opiniones'], ['4', 'ver opiniones'], ['4.5', 'ver opiniones'], ['4', 'ver opiniones'], ['4.5', 'ver opiniones'], ['4.5', 'ver opiniones']]\n"
          ]
        }
      ]
    },
    {
      "cell_type": "code",
      "source": [
        "cali2 = list()\n",
        "calificaciones = list()\n"
      ],
      "metadata": {
        "id": "v7HRPQGkQfSz"
      },
      "execution_count": 316,
      "outputs": []
    },
    {
      "cell_type": "markdown",
      "source": [
        "como se puede observar la funcion split no creo varios arreglos la parte deseada y la no deseada, eliminamos la parte no deseada con la libreria numby y la funcion delete"
      ],
      "metadata": {
        "id": "O9eI2rBZYotb"
      }
    },
    {
      "cell_type": "code",
      "source": [
        "for x in cali:\n",
        "  cali2 = np.delete(x, 1)\n",
        "  calificaciones.append(pd.to_numeric(cali2[0]))"
      ],
      "metadata": {
        "id": "Kfpxk9rUQiXl"
      },
      "execution_count": 317,
      "outputs": []
    },
    {
      "cell_type": "code",
      "source": [
        "print(calificaciones)"
      ],
      "metadata": {
        "colab": {
          "base_uri": "https://localhost:8080/"
        },
        "id": "xePuNTi5SYSI",
        "outputId": "ca2b1393-a37f-44e5-c5ef-deb3eb1e16da"
      },
      "execution_count": 318,
      "outputs": [
        {
          "output_type": "stream",
          "name": "stdout",
          "text": [
            "[4.5, 4, 4, 4.5, 4.5, 4.5, 4.5, 4, 4.5, 4, 4.5, 4, 4.5, 4.5]\n"
          ]
        }
      ]
    },
    {
      "cell_type": "markdown",
      "source": [
        "procedemos a crear nuestro dataframe"
      ],
      "metadata": {
        "id": "ScuihIB4Y5w7"
      }
    },
    {
      "cell_type": "code",
      "source": [
        "df = pd.DataFrame({'restaurante': restaurantes, 'consumo promedio' : consumoPromedio, '# opiniones': opiniones, 'calificacion': calificaciones}, index = list(range(1, 15)))"
      ],
      "metadata": {
        "id": "9B3FTIpIUGTM"
      },
      "execution_count": 494,
      "outputs": []
    },
    {
      "cell_type": "code",
      "source": [
        "print(df)"
      ],
      "metadata": {
        "colab": {
          "base_uri": "https://localhost:8080/"
        },
        "id": "SSQQKBU3UqQk",
        "outputId": "e6175fbb-dfc3-4bdb-d998-70b04959212f"
      },
      "execution_count": 550,
      "outputs": [
        {
          "output_type": "stream",
          "name": "stdout",
          "text": [
            "                  restaurante  consumo promedio  # opiniones  calificacion\n",
            "1           Angelinas Kitchen               350          584           4.5\n",
            "2           La Costa Marinera               430          456           4.0\n",
            "3                Pedro y Lola               375          393           4.0\n",
            "4                   Los Arcos               400          343           4.5\n",
            "5            La Mona Pizzeria               420           73           4.5\n",
            "6                     Panchos               325         1981           4.5\n",
            "7                     Casa 46               600          420           4.5\n",
            "8          El Muchacho Alegre               300          468           4.0\n",
            "9                      Topolo               350         1107           4.5\n",
            "10            El Guamuchilito               340           87           4.0\n",
            "11                El Presidio               300          990           4.5\n",
            "12     Mr. Lionso Playa Bruja               375         1442           4.0\n",
            "13  El Mesón de los Laureanos               260          225           4.5\n",
            "14              El Cuchupetas               325          208           4.5\n"
          ]
        }
      ]
    },
    {
      "cell_type": "markdown",
      "source": [
        "Al ejecutar tu análisis exploratorio, describe el número de columnas y    filas que encuentras"
      ],
      "metadata": {
        "id": "2ybVjt-SZCgE"
      }
    },
    {
      "cell_type": "code",
      "source": [
        "print('El numero de filas es: ', df.shape[0])\n",
        "print('El numero de columnas es: ', df.shape[1])"
      ],
      "metadata": {
        "colab": {
          "base_uri": "https://localhost:8080/"
        },
        "id": "9_j9czZAU9eP",
        "outputId": "abc76fad-097d-48cc-91b8-455dba1c83ef"
      },
      "execution_count": 496,
      "outputs": [
        {
          "output_type": "stream",
          "name": "stdout",
          "text": [
            "El numero de filas es:  14\n",
            "El numero de columnas es:  4\n"
          ]
        }
      ]
    },
    {
      "cell_type": "markdown",
      "source": [
        "Calcula la media, máximo, mínimo y desviación estándar de las columnas   con valores numéricos."
      ],
      "metadata": {
        "id": "nHawkXWbZITL"
      }
    },
    {
      "cell_type": "code",
      "source": [
        "df.describe()"
      ],
      "metadata": {
        "colab": {
          "base_uri": "https://localhost:8080/",
          "height": 300
        },
        "id": "Na_8RTqbn6a8",
        "outputId": "1094f530-69d2-4320-8d8c-a46464c02811"
      },
      "execution_count": 497,
      "outputs": [
        {
          "output_type": "execute_result",
          "data": {
            "text/plain": [
              "       consumo promedio  # opiniones  calificacion\n",
              "count         14.000000    14.000000     14.000000\n",
              "mean         367.857143   626.928571      4.321429\n",
              "std           82.058007   556.778020      0.248623\n",
              "min          260.000000    73.000000      4.000000\n",
              "25%          325.000000   254.500000      4.000000\n",
              "50%          350.000000   438.000000      4.500000\n",
              "75%          393.750000   888.500000      4.500000\n",
              "max          600.000000  1981.000000      4.500000"
            ],
            "text/html": [
              "\n",
              "  <div id=\"df-e18ef3ea-40d6-43cb-a435-74be75904cdf\">\n",
              "    <div class=\"colab-df-container\">\n",
              "      <div>\n",
              "<style scoped>\n",
              "    .dataframe tbody tr th:only-of-type {\n",
              "        vertical-align: middle;\n",
              "    }\n",
              "\n",
              "    .dataframe tbody tr th {\n",
              "        vertical-align: top;\n",
              "    }\n",
              "\n",
              "    .dataframe thead th {\n",
              "        text-align: right;\n",
              "    }\n",
              "</style>\n",
              "<table border=\"1\" class=\"dataframe\">\n",
              "  <thead>\n",
              "    <tr style=\"text-align: right;\">\n",
              "      <th></th>\n",
              "      <th>consumo promedio</th>\n",
              "      <th># opiniones</th>\n",
              "      <th>calificacion</th>\n",
              "    </tr>\n",
              "  </thead>\n",
              "  <tbody>\n",
              "    <tr>\n",
              "      <th>count</th>\n",
              "      <td>14.000000</td>\n",
              "      <td>14.000000</td>\n",
              "      <td>14.000000</td>\n",
              "    </tr>\n",
              "    <tr>\n",
              "      <th>mean</th>\n",
              "      <td>367.857143</td>\n",
              "      <td>626.928571</td>\n",
              "      <td>4.321429</td>\n",
              "    </tr>\n",
              "    <tr>\n",
              "      <th>std</th>\n",
              "      <td>82.058007</td>\n",
              "      <td>556.778020</td>\n",
              "      <td>0.248623</td>\n",
              "    </tr>\n",
              "    <tr>\n",
              "      <th>min</th>\n",
              "      <td>260.000000</td>\n",
              "      <td>73.000000</td>\n",
              "      <td>4.000000</td>\n",
              "    </tr>\n",
              "    <tr>\n",
              "      <th>25%</th>\n",
              "      <td>325.000000</td>\n",
              "      <td>254.500000</td>\n",
              "      <td>4.000000</td>\n",
              "    </tr>\n",
              "    <tr>\n",
              "      <th>50%</th>\n",
              "      <td>350.000000</td>\n",
              "      <td>438.000000</td>\n",
              "      <td>4.500000</td>\n",
              "    </tr>\n",
              "    <tr>\n",
              "      <th>75%</th>\n",
              "      <td>393.750000</td>\n",
              "      <td>888.500000</td>\n",
              "      <td>4.500000</td>\n",
              "    </tr>\n",
              "    <tr>\n",
              "      <th>max</th>\n",
              "      <td>600.000000</td>\n",
              "      <td>1981.000000</td>\n",
              "      <td>4.500000</td>\n",
              "    </tr>\n",
              "  </tbody>\n",
              "</table>\n",
              "</div>\n",
              "      <button class=\"colab-df-convert\" onclick=\"convertToInteractive('df-e18ef3ea-40d6-43cb-a435-74be75904cdf')\"\n",
              "              title=\"Convert this dataframe to an interactive table.\"\n",
              "              style=\"display:none;\">\n",
              "        \n",
              "  <svg xmlns=\"http://www.w3.org/2000/svg\" height=\"24px\"viewBox=\"0 0 24 24\"\n",
              "       width=\"24px\">\n",
              "    <path d=\"M0 0h24v24H0V0z\" fill=\"none\"/>\n",
              "    <path d=\"M18.56 5.44l.94 2.06.94-2.06 2.06-.94-2.06-.94-.94-2.06-.94 2.06-2.06.94zm-11 1L8.5 8.5l.94-2.06 2.06-.94-2.06-.94L8.5 2.5l-.94 2.06-2.06.94zm10 10l.94 2.06.94-2.06 2.06-.94-2.06-.94-.94-2.06-.94 2.06-2.06.94z\"/><path d=\"M17.41 7.96l-1.37-1.37c-.4-.4-.92-.59-1.43-.59-.52 0-1.04.2-1.43.59L10.3 9.45l-7.72 7.72c-.78.78-.78 2.05 0 2.83L4 21.41c.39.39.9.59 1.41.59.51 0 1.02-.2 1.41-.59l7.78-7.78 2.81-2.81c.8-.78.8-2.07 0-2.86zM5.41 20L4 18.59l7.72-7.72 1.47 1.35L5.41 20z\"/>\n",
              "  </svg>\n",
              "      </button>\n",
              "      \n",
              "  <style>\n",
              "    .colab-df-container {\n",
              "      display:flex;\n",
              "      flex-wrap:wrap;\n",
              "      gap: 12px;\n",
              "    }\n",
              "\n",
              "    .colab-df-convert {\n",
              "      background-color: #E8F0FE;\n",
              "      border: none;\n",
              "      border-radius: 50%;\n",
              "      cursor: pointer;\n",
              "      display: none;\n",
              "      fill: #1967D2;\n",
              "      height: 32px;\n",
              "      padding: 0 0 0 0;\n",
              "      width: 32px;\n",
              "    }\n",
              "\n",
              "    .colab-df-convert:hover {\n",
              "      background-color: #E2EBFA;\n",
              "      box-shadow: 0px 1px 2px rgba(60, 64, 67, 0.3), 0px 1px 3px 1px rgba(60, 64, 67, 0.15);\n",
              "      fill: #174EA6;\n",
              "    }\n",
              "\n",
              "    [theme=dark] .colab-df-convert {\n",
              "      background-color: #3B4455;\n",
              "      fill: #D2E3FC;\n",
              "    }\n",
              "\n",
              "    [theme=dark] .colab-df-convert:hover {\n",
              "      background-color: #434B5C;\n",
              "      box-shadow: 0px 1px 3px 1px rgba(0, 0, 0, 0.15);\n",
              "      filter: drop-shadow(0px 1px 2px rgba(0, 0, 0, 0.3));\n",
              "      fill: #FFFFFF;\n",
              "    }\n",
              "  </style>\n",
              "\n",
              "      <script>\n",
              "        const buttonEl =\n",
              "          document.querySelector('#df-e18ef3ea-40d6-43cb-a435-74be75904cdf button.colab-df-convert');\n",
              "        buttonEl.style.display =\n",
              "          google.colab.kernel.accessAllowed ? 'block' : 'none';\n",
              "\n",
              "        async function convertToInteractive(key) {\n",
              "          const element = document.querySelector('#df-e18ef3ea-40d6-43cb-a435-74be75904cdf');\n",
              "          const dataTable =\n",
              "            await google.colab.kernel.invokeFunction('convertToInteractive',\n",
              "                                                     [key], {});\n",
              "          if (!dataTable) return;\n",
              "\n",
              "          const docLinkHtml = 'Like what you see? Visit the ' +\n",
              "            '<a target=\"_blank\" href=https://colab.research.google.com/notebooks/data_table.ipynb>data table notebook</a>'\n",
              "            + ' to learn more about interactive tables.';\n",
              "          element.innerHTML = '';\n",
              "          dataTable['output_type'] = 'display_data';\n",
              "          await google.colab.output.renderOutput(dataTable, element);\n",
              "          const docLink = document.createElement('div');\n",
              "          docLink.innerHTML = docLinkHtml;\n",
              "          element.appendChild(docLink);\n",
              "        }\n",
              "      </script>\n",
              "    </div>\n",
              "  </div>\n",
              "  "
            ]
          },
          "metadata": {},
          "execution_count": 497
        }
      ]
    },
    {
      "cell_type": "markdown",
      "source": [
        " Limpia los datos de  acuerdo a su utilidad"
      ],
      "metadata": {
        "id": "XXWr9aEfj1al"
      }
    },
    {
      "cell_type": "code",
      "source": [
        "df.isnull().sum()"
      ],
      "metadata": {
        "colab": {
          "base_uri": "https://localhost:8080/"
        },
        "id": "kCTh7uTtj_oW",
        "outputId": "b4762ba0-dde1-48cd-9cfb-f81a2bfdae5d"
      },
      "execution_count": 403,
      "outputs": [
        {
          "output_type": "execute_result",
          "data": {
            "text/plain": [
              "restaurante         0\n",
              "consumo promedio    0\n",
              "# opiniones         0\n",
              "calificacion        0\n",
              "dtype: int64"
            ]
          },
          "metadata": {},
          "execution_count": 403
        }
      ]
    },
    {
      "cell_type": "markdown",
      "source": [
        "como se puede ver con la funcion hay 0 valores nulos por l otanto no sera necesario hacer limpieza"
      ],
      "metadata": {
        "id": "cd9cIVPgkMEd"
      }
    },
    {
      "cell_type": "markdown",
      "source": [
        "Desarrolla un modelo de   Machine Learning que:\n",
        "Explique tu decisión sobre la inversión en ese  sector económico.\n",
        "Pueda ser replicado si en el futuro consideramos  de nuevo invertir.\n",
        "Guárdalo utilizando Pickle"
      ],
      "metadata": {
        "id": "-yHKSmZbkeQw"
      }
    },
    {
      "cell_type": "code",
      "source": [
        "from sklearn.tree import DecisionTreeClassifier\n",
        "from sklearn.model_selection import train_test_split\n",
        "x=0\n",
        "y=0"
      ],
      "metadata": {
        "id": "Wx8iH_DWlZzE"
      },
      "execution_count": 535,
      "outputs": []
    },
    {
      "cell_type": "code",
      "source": [
        "x = df.drop(['restaurante'], axis=1)\n",
        "y = df.restaurante"
      ],
      "metadata": {
        "id": "K_CrFoMOmwK2"
      },
      "execution_count": 536,
      "outputs": []
    },
    {
      "cell_type": "code",
      "source": [
        "print(y)"
      ],
      "metadata": {
        "colab": {
          "base_uri": "https://localhost:8080/"
        },
        "id": "r-WC1DvppofN",
        "outputId": "031fc30b-0c4d-4ec3-9463-31080e71870f"
      },
      "execution_count": 537,
      "outputs": [
        {
          "output_type": "stream",
          "name": "stdout",
          "text": [
            "1             Angelinas Kitchen\n",
            "2             La Costa Marinera\n",
            "3                  Pedro y Lola\n",
            "4                     Los Arcos\n",
            "5              La Mona Pizzeria\n",
            "6                       Panchos\n",
            "7                       Casa 46\n",
            "8            El Muchacho Alegre\n",
            "9                        Topolo\n",
            "10              El Guamuchilito\n",
            "11                  El Presidio\n",
            "12       Mr. Lionso Playa Bruja\n",
            "13    El Mesón de los Laureanos\n",
            "14                El Cuchupetas\n",
            "Name: restaurante, dtype: object\n"
          ]
        }
      ]
    },
    {
      "cell_type": "code",
      "source": [
        "print(x)"
      ],
      "metadata": {
        "colab": {
          "base_uri": "https://localhost:8080/"
        },
        "id": "R4cR1Reivr71",
        "outputId": "b654455c-11f5-49ae-f974-1e520d9be60d"
      },
      "execution_count": 538,
      "outputs": [
        {
          "output_type": "stream",
          "name": "stdout",
          "text": [
            "    consumo promedio  # opiniones  calificacion\n",
            "1                350          584           4.5\n",
            "2                430          456           4.0\n",
            "3                375          393           4.0\n",
            "4                400          343           4.5\n",
            "5                420           73           4.5\n",
            "6                325         1981           4.5\n",
            "7                600          420           4.5\n",
            "8                300          468           4.0\n",
            "9                350         1107           4.5\n",
            "10               340           87           4.0\n",
            "11               300          990           4.5\n",
            "12               375         1442           4.0\n",
            "13               260          225           4.5\n",
            "14               325          208           4.5\n"
          ]
        }
      ]
    },
    {
      "cell_type": "code",
      "source": [
        "X_train, X_test, y_train, y_test = train_test_split(x,y,stratify=y)\n",
        "\n",
        "tree = DecisionTreeClassifier(random_state=42)\n",
        "\n",
        "tree.fit(X_train, y_train)"
      ],
      "metadata": {
        "colab": {
          "base_uri": "https://localhost:8080/",
          "height": 381
        },
        "id": "TT9r_YZvoHmd",
        "outputId": "a74b6da5-233a-4563-fca1-414653cecb67"
      },
      "execution_count": 552,
      "outputs": [
        {
          "output_type": "error",
          "ename": "ValueError",
          "evalue": "ignored",
          "traceback": [
            "\u001b[0;31m---------------------------------------------------------------------------\u001b[0m",
            "\u001b[0;31mValueError\u001b[0m                                Traceback (most recent call last)",
            "\u001b[0;32m<ipython-input-552-c4b20c7e9963>\u001b[0m in \u001b[0;36m<module>\u001b[0;34m\u001b[0m\n\u001b[0;32m----> 1\u001b[0;31m \u001b[0mX_train\u001b[0m\u001b[0;34m,\u001b[0m \u001b[0mX_test\u001b[0m\u001b[0;34m,\u001b[0m \u001b[0my_train\u001b[0m\u001b[0;34m,\u001b[0m \u001b[0my_test\u001b[0m \u001b[0;34m=\u001b[0m \u001b[0mtrain_test_split\u001b[0m\u001b[0;34m(\u001b[0m\u001b[0mx\u001b[0m\u001b[0;34m,\u001b[0m\u001b[0my\u001b[0m\u001b[0;34m,\u001b[0m\u001b[0mstratify\u001b[0m\u001b[0;34m=\u001b[0m\u001b[0my\u001b[0m\u001b[0;34m)\u001b[0m\u001b[0;34m\u001b[0m\u001b[0;34m\u001b[0m\u001b[0m\n\u001b[0m\u001b[1;32m      2\u001b[0m \u001b[0;34m\u001b[0m\u001b[0m\n\u001b[1;32m      3\u001b[0m \u001b[0mtree\u001b[0m \u001b[0;34m=\u001b[0m \u001b[0mDecisionTreeClassifier\u001b[0m\u001b[0;34m(\u001b[0m\u001b[0mrandom_state\u001b[0m\u001b[0;34m=\u001b[0m\u001b[0;36m42\u001b[0m\u001b[0;34m)\u001b[0m\u001b[0;34m\u001b[0m\u001b[0;34m\u001b[0m\u001b[0m\n\u001b[1;32m      4\u001b[0m \u001b[0;34m\u001b[0m\u001b[0m\n\u001b[1;32m      5\u001b[0m \u001b[0mtree\u001b[0m\u001b[0;34m.\u001b[0m\u001b[0mfit\u001b[0m\u001b[0;34m(\u001b[0m\u001b[0mX_train\u001b[0m\u001b[0;34m,\u001b[0m \u001b[0my_train\u001b[0m\u001b[0;34m)\u001b[0m\u001b[0;34m\u001b[0m\u001b[0;34m\u001b[0m\u001b[0m\n",
            "\u001b[0;32m/usr/local/lib/python3.7/dist-packages/sklearn/model_selection/_split.py\u001b[0m in \u001b[0;36mtrain_test_split\u001b[0;34m(test_size, train_size, random_state, shuffle, stratify, *arrays)\u001b[0m\n\u001b[1;32m   2439\u001b[0m         \u001b[0mcv\u001b[0m \u001b[0;34m=\u001b[0m \u001b[0mCVClass\u001b[0m\u001b[0;34m(\u001b[0m\u001b[0mtest_size\u001b[0m\u001b[0;34m=\u001b[0m\u001b[0mn_test\u001b[0m\u001b[0;34m,\u001b[0m \u001b[0mtrain_size\u001b[0m\u001b[0;34m=\u001b[0m\u001b[0mn_train\u001b[0m\u001b[0;34m,\u001b[0m \u001b[0mrandom_state\u001b[0m\u001b[0;34m=\u001b[0m\u001b[0mrandom_state\u001b[0m\u001b[0;34m)\u001b[0m\u001b[0;34m\u001b[0m\u001b[0;34m\u001b[0m\u001b[0m\n\u001b[1;32m   2440\u001b[0m \u001b[0;34m\u001b[0m\u001b[0m\n\u001b[0;32m-> 2441\u001b[0;31m         \u001b[0mtrain\u001b[0m\u001b[0;34m,\u001b[0m \u001b[0mtest\u001b[0m \u001b[0;34m=\u001b[0m \u001b[0mnext\u001b[0m\u001b[0;34m(\u001b[0m\u001b[0mcv\u001b[0m\u001b[0;34m.\u001b[0m\u001b[0msplit\u001b[0m\u001b[0;34m(\u001b[0m\u001b[0mX\u001b[0m\u001b[0;34m=\u001b[0m\u001b[0marrays\u001b[0m\u001b[0;34m[\u001b[0m\u001b[0;36m0\u001b[0m\u001b[0;34m]\u001b[0m\u001b[0;34m,\u001b[0m \u001b[0my\u001b[0m\u001b[0;34m=\u001b[0m\u001b[0mstratify\u001b[0m\u001b[0;34m)\u001b[0m\u001b[0;34m)\u001b[0m\u001b[0;34m\u001b[0m\u001b[0;34m\u001b[0m\u001b[0m\n\u001b[0m\u001b[1;32m   2442\u001b[0m \u001b[0;34m\u001b[0m\u001b[0m\n\u001b[1;32m   2443\u001b[0m     return list(\n",
            "\u001b[0;32m/usr/local/lib/python3.7/dist-packages/sklearn/model_selection/_split.py\u001b[0m in \u001b[0;36msplit\u001b[0;34m(self, X, y, groups)\u001b[0m\n\u001b[1;32m   1598\u001b[0m         \"\"\"\n\u001b[1;32m   1599\u001b[0m         \u001b[0mX\u001b[0m\u001b[0;34m,\u001b[0m \u001b[0my\u001b[0m\u001b[0;34m,\u001b[0m \u001b[0mgroups\u001b[0m \u001b[0;34m=\u001b[0m \u001b[0mindexable\u001b[0m\u001b[0;34m(\u001b[0m\u001b[0mX\u001b[0m\u001b[0;34m,\u001b[0m \u001b[0my\u001b[0m\u001b[0;34m,\u001b[0m \u001b[0mgroups\u001b[0m\u001b[0;34m)\u001b[0m\u001b[0;34m\u001b[0m\u001b[0;34m\u001b[0m\u001b[0m\n\u001b[0;32m-> 1600\u001b[0;31m         \u001b[0;32mfor\u001b[0m \u001b[0mtrain\u001b[0m\u001b[0;34m,\u001b[0m \u001b[0mtest\u001b[0m \u001b[0;32min\u001b[0m \u001b[0mself\u001b[0m\u001b[0;34m.\u001b[0m\u001b[0m_iter_indices\u001b[0m\u001b[0;34m(\u001b[0m\u001b[0mX\u001b[0m\u001b[0;34m,\u001b[0m \u001b[0my\u001b[0m\u001b[0;34m,\u001b[0m \u001b[0mgroups\u001b[0m\u001b[0;34m)\u001b[0m\u001b[0;34m:\u001b[0m\u001b[0;34m\u001b[0m\u001b[0;34m\u001b[0m\u001b[0m\n\u001b[0m\u001b[1;32m   1601\u001b[0m             \u001b[0;32myield\u001b[0m \u001b[0mtrain\u001b[0m\u001b[0;34m,\u001b[0m \u001b[0mtest\u001b[0m\u001b[0;34m\u001b[0m\u001b[0;34m\u001b[0m\u001b[0m\n\u001b[1;32m   1602\u001b[0m \u001b[0;34m\u001b[0m\u001b[0m\n",
            "\u001b[0;32m/usr/local/lib/python3.7/dist-packages/sklearn/model_selection/_split.py\u001b[0m in \u001b[0;36m_iter_indices\u001b[0;34m(self, X, y, groups)\u001b[0m\n\u001b[1;32m   1939\u001b[0m         \u001b[0;32mif\u001b[0m \u001b[0mnp\u001b[0m\u001b[0;34m.\u001b[0m\u001b[0mmin\u001b[0m\u001b[0;34m(\u001b[0m\u001b[0mclass_counts\u001b[0m\u001b[0;34m)\u001b[0m \u001b[0;34m<\u001b[0m \u001b[0;36m2\u001b[0m\u001b[0;34m:\u001b[0m\u001b[0;34m\u001b[0m\u001b[0;34m\u001b[0m\u001b[0m\n\u001b[1;32m   1940\u001b[0m             raise ValueError(\n\u001b[0;32m-> 1941\u001b[0;31m                 \u001b[0;34m\"The least populated class in y has only 1\"\u001b[0m\u001b[0;34m\u001b[0m\u001b[0;34m\u001b[0m\u001b[0m\n\u001b[0m\u001b[1;32m   1942\u001b[0m                 \u001b[0;34m\" member, which is too few. The minimum\"\u001b[0m\u001b[0;34m\u001b[0m\u001b[0;34m\u001b[0m\u001b[0m\n\u001b[1;32m   1943\u001b[0m                 \u001b[0;34m\" number of groups for any class cannot\"\u001b[0m\u001b[0;34m\u001b[0m\u001b[0;34m\u001b[0m\u001b[0m\n",
            "\u001b[0;31mValueError\u001b[0m: The least populated class in y has only 1 member, which is too few. The minimum number of groups for any class cannot be less than 2."
          ]
        }
      ]
    }
  ]
}