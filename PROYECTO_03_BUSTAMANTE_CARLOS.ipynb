{
  "nbformat": 4,
  "nbformat_minor": 0,
  "metadata": {
    "colab": {
      "name": "Untitled3.ipynb",
      "provenance": []
    },
    "kernelspec": {
      "name": "python3",
      "display_name": "Python 3"
    },
    "language_info": {
      "name": "python"
    }
  },
  "cells": [
    {
      "cell_type": "code",
      "execution_count": 30,
      "metadata": {
        "id": "4bZsNlzOAd7e"
      },
      "outputs": [],
      "source": [
        "import numpy as np\n",
        "import pandas as pd"
      ]
    },
    {
      "cell_type": "code",
      "source": [
        "df = pd.read_csv(\"cleaned.csv\",  index_col=None)"
      ],
      "metadata": {
        "id": "WfQ0PwU2A-5h"
      },
      "execution_count": 2,
      "outputs": []
    },
    {
      "cell_type": "code",
      "source": [
        "df.head()"
      ],
      "metadata": {
        "colab": {
          "base_uri": "https://localhost:8080/",
          "height": 216
        },
        "id": "bPNwQGe9BDHx",
        "outputId": "db97e292-ab3d-4cf0-cc1e-b61e07f127b6"
      },
      "execution_count": 3,
      "outputs": [
        {
          "output_type": "execute_result",
          "data": {
            "text/plain": [
              "   track_id genre_top  acousticness  danceability    energy  instrumentalness  \\\n",
              "0       153      Rock      0.988306      0.255661  0.979774          0.973006   \n",
              "1       154      Rock      0.970135      0.352946  0.023852          0.957113   \n",
              "2       155      Rock      0.981657      0.142249  0.912122          0.967294   \n",
              "3       169      Rock      0.989141      0.225978  0.722835          0.263076   \n",
              "4       170      Rock      0.886660      0.298518  0.744333          0.920950   \n",
              "\n",
              "   liveness  speechiness   tempo   valence  \n",
              "0  0.121342     0.051740  90.241  0.034018  \n",
              "1  0.113261     0.032177  53.758  0.035632  \n",
              "2  0.363510     0.087527  91.912  0.034325  \n",
              "3  0.092371     0.053406  94.322  0.028347  \n",
              "4  0.139587     0.088781  97.880  0.073548  "
            ],
            "text/html": [
              "\n",
              "  <div id=\"df-bfb91799-c170-4c2d-b638-b337a67b46eb\">\n",
              "    <div class=\"colab-df-container\">\n",
              "      <div>\n",
              "<style scoped>\n",
              "    .dataframe tbody tr th:only-of-type {\n",
              "        vertical-align: middle;\n",
              "    }\n",
              "\n",
              "    .dataframe tbody tr th {\n",
              "        vertical-align: top;\n",
              "    }\n",
              "\n",
              "    .dataframe thead th {\n",
              "        text-align: right;\n",
              "    }\n",
              "</style>\n",
              "<table border=\"1\" class=\"dataframe\">\n",
              "  <thead>\n",
              "    <tr style=\"text-align: right;\">\n",
              "      <th></th>\n",
              "      <th>track_id</th>\n",
              "      <th>genre_top</th>\n",
              "      <th>acousticness</th>\n",
              "      <th>danceability</th>\n",
              "      <th>energy</th>\n",
              "      <th>instrumentalness</th>\n",
              "      <th>liveness</th>\n",
              "      <th>speechiness</th>\n",
              "      <th>tempo</th>\n",
              "      <th>valence</th>\n",
              "    </tr>\n",
              "  </thead>\n",
              "  <tbody>\n",
              "    <tr>\n",
              "      <th>0</th>\n",
              "      <td>153</td>\n",
              "      <td>Rock</td>\n",
              "      <td>0.988306</td>\n",
              "      <td>0.255661</td>\n",
              "      <td>0.979774</td>\n",
              "      <td>0.973006</td>\n",
              "      <td>0.121342</td>\n",
              "      <td>0.051740</td>\n",
              "      <td>90.241</td>\n",
              "      <td>0.034018</td>\n",
              "    </tr>\n",
              "    <tr>\n",
              "      <th>1</th>\n",
              "      <td>154</td>\n",
              "      <td>Rock</td>\n",
              "      <td>0.970135</td>\n",
              "      <td>0.352946</td>\n",
              "      <td>0.023852</td>\n",
              "      <td>0.957113</td>\n",
              "      <td>0.113261</td>\n",
              "      <td>0.032177</td>\n",
              "      <td>53.758</td>\n",
              "      <td>0.035632</td>\n",
              "    </tr>\n",
              "    <tr>\n",
              "      <th>2</th>\n",
              "      <td>155</td>\n",
              "      <td>Rock</td>\n",
              "      <td>0.981657</td>\n",
              "      <td>0.142249</td>\n",
              "      <td>0.912122</td>\n",
              "      <td>0.967294</td>\n",
              "      <td>0.363510</td>\n",
              "      <td>0.087527</td>\n",
              "      <td>91.912</td>\n",
              "      <td>0.034325</td>\n",
              "    </tr>\n",
              "    <tr>\n",
              "      <th>3</th>\n",
              "      <td>169</td>\n",
              "      <td>Rock</td>\n",
              "      <td>0.989141</td>\n",
              "      <td>0.225978</td>\n",
              "      <td>0.722835</td>\n",
              "      <td>0.263076</td>\n",
              "      <td>0.092371</td>\n",
              "      <td>0.053406</td>\n",
              "      <td>94.322</td>\n",
              "      <td>0.028347</td>\n",
              "    </tr>\n",
              "    <tr>\n",
              "      <th>4</th>\n",
              "      <td>170</td>\n",
              "      <td>Rock</td>\n",
              "      <td>0.886660</td>\n",
              "      <td>0.298518</td>\n",
              "      <td>0.744333</td>\n",
              "      <td>0.920950</td>\n",
              "      <td>0.139587</td>\n",
              "      <td>0.088781</td>\n",
              "      <td>97.880</td>\n",
              "      <td>0.073548</td>\n",
              "    </tr>\n",
              "  </tbody>\n",
              "</table>\n",
              "</div>\n",
              "      <button class=\"colab-df-convert\" onclick=\"convertToInteractive('df-bfb91799-c170-4c2d-b638-b337a67b46eb')\"\n",
              "              title=\"Convert this dataframe to an interactive table.\"\n",
              "              style=\"display:none;\">\n",
              "        \n",
              "  <svg xmlns=\"http://www.w3.org/2000/svg\" height=\"24px\"viewBox=\"0 0 24 24\"\n",
              "       width=\"24px\">\n",
              "    <path d=\"M0 0h24v24H0V0z\" fill=\"none\"/>\n",
              "    <path d=\"M18.56 5.44l.94 2.06.94-2.06 2.06-.94-2.06-.94-.94-2.06-.94 2.06-2.06.94zm-11 1L8.5 8.5l.94-2.06 2.06-.94-2.06-.94L8.5 2.5l-.94 2.06-2.06.94zm10 10l.94 2.06.94-2.06 2.06-.94-2.06-.94-.94-2.06-.94 2.06-2.06.94z\"/><path d=\"M17.41 7.96l-1.37-1.37c-.4-.4-.92-.59-1.43-.59-.52 0-1.04.2-1.43.59L10.3 9.45l-7.72 7.72c-.78.78-.78 2.05 0 2.83L4 21.41c.39.39.9.59 1.41.59.51 0 1.02-.2 1.41-.59l7.78-7.78 2.81-2.81c.8-.78.8-2.07 0-2.86zM5.41 20L4 18.59l7.72-7.72 1.47 1.35L5.41 20z\"/>\n",
              "  </svg>\n",
              "      </button>\n",
              "      \n",
              "  <style>\n",
              "    .colab-df-container {\n",
              "      display:flex;\n",
              "      flex-wrap:wrap;\n",
              "      gap: 12px;\n",
              "    }\n",
              "\n",
              "    .colab-df-convert {\n",
              "      background-color: #E8F0FE;\n",
              "      border: none;\n",
              "      border-radius: 50%;\n",
              "      cursor: pointer;\n",
              "      display: none;\n",
              "      fill: #1967D2;\n",
              "      height: 32px;\n",
              "      padding: 0 0 0 0;\n",
              "      width: 32px;\n",
              "    }\n",
              "\n",
              "    .colab-df-convert:hover {\n",
              "      background-color: #E2EBFA;\n",
              "      box-shadow: 0px 1px 2px rgba(60, 64, 67, 0.3), 0px 1px 3px 1px rgba(60, 64, 67, 0.15);\n",
              "      fill: #174EA6;\n",
              "    }\n",
              "\n",
              "    [theme=dark] .colab-df-convert {\n",
              "      background-color: #3B4455;\n",
              "      fill: #D2E3FC;\n",
              "    }\n",
              "\n",
              "    [theme=dark] .colab-df-convert:hover {\n",
              "      background-color: #434B5C;\n",
              "      box-shadow: 0px 1px 3px 1px rgba(0, 0, 0, 0.15);\n",
              "      filter: drop-shadow(0px 1px 2px rgba(0, 0, 0, 0.3));\n",
              "      fill: #FFFFFF;\n",
              "    }\n",
              "  </style>\n",
              "\n",
              "      <script>\n",
              "        const buttonEl =\n",
              "          document.querySelector('#df-bfb91799-c170-4c2d-b638-b337a67b46eb button.colab-df-convert');\n",
              "        buttonEl.style.display =\n",
              "          google.colab.kernel.accessAllowed ? 'block' : 'none';\n",
              "\n",
              "        async function convertToInteractive(key) {\n",
              "          const element = document.querySelector('#df-bfb91799-c170-4c2d-b638-b337a67b46eb');\n",
              "          const dataTable =\n",
              "            await google.colab.kernel.invokeFunction('convertToInteractive',\n",
              "                                                     [key], {});\n",
              "          if (!dataTable) return;\n",
              "\n",
              "          const docLinkHtml = 'Like what you see? Visit the ' +\n",
              "            '<a target=\"_blank\" href=https://colab.research.google.com/notebooks/data_table.ipynb>data table notebook</a>'\n",
              "            + ' to learn more about interactive tables.';\n",
              "          element.innerHTML = '';\n",
              "          dataTable['output_type'] = 'display_data';\n",
              "          await google.colab.output.renderOutput(dataTable, element);\n",
              "          const docLink = document.createElement('div');\n",
              "          docLink.innerHTML = docLinkHtml;\n",
              "          element.appendChild(docLink);\n",
              "        }\n",
              "      </script>\n",
              "    </div>\n",
              "  </div>\n",
              "  "
            ]
          },
          "metadata": {},
          "execution_count": 3
        }
      ]
    },
    {
      "cell_type": "markdown",
      "source": [
        "Al ejecutar tu análisis exploratorio, describe el número de columnas y filas que encuentras"
      ],
      "metadata": {
        "id": "0YBSH6eGBHe8"
      }
    },
    {
      "cell_type": "code",
      "source": [
        "print('El numero de filas es: ', df.shape[0])\n",
        "print('El numero de columnas es: ', df.shape[1])"
      ],
      "metadata": {
        "colab": {
          "base_uri": "https://localhost:8080/"
        },
        "id": "NgaRPv6wBHRJ",
        "outputId": "fe366b9f-2071-4225-9aa2-10e740aac0ac"
      },
      "execution_count": 4,
      "outputs": [
        {
          "output_type": "stream",
          "name": "stdout",
          "text": [
            "El numero de filas es:  4802\n",
            "El numero de columnas es:  10\n"
          ]
        }
      ]
    },
    {
      "cell_type": "markdown",
      "source": [
        "Calcula la media, máximo, mínimoy desviación estándar de las columnas con valores numéricos"
      ],
      "metadata": {
        "id": "bMAGhVfrBiIM"
      }
    },
    {
      "cell_type": "code",
      "source": [
        "df.describe()"
      ],
      "metadata": {
        "colab": {
          "base_uri": "https://localhost:8080/",
          "height": 300
        },
        "id": "LP9jcrLLBk7N",
        "outputId": "6b73e2d5-82f6-4589-9c35-ce987935ab66"
      },
      "execution_count": 5,
      "outputs": [
        {
          "output_type": "execute_result",
          "data": {
            "text/plain": [
              "            track_id  acousticness  danceability       energy  \\\n",
              "count    4802.000000  4.802000e+03   4802.000000  4802.000000   \n",
              "mean    30164.871720  4.870600e-01      0.436556     0.625126   \n",
              "std     28592.013796  3.681396e-01      0.183502     0.244051   \n",
              "min         2.000000  9.491000e-07      0.051307     0.000279   \n",
              "25%      7494.250000  8.351236e-02      0.296047     0.450757   \n",
              "50%     20723.500000  5.156888e-01      0.419447     0.648374   \n",
              "75%     44240.750000  8.555765e-01      0.565339     0.837016   \n",
              "max    124722.000000  9.957965e-01      0.961871     0.999768   \n",
              "\n",
              "       instrumentalness     liveness  speechiness        tempo      valence  \n",
              "count       4802.000000  4802.000000  4802.000000  4802.000000  4802.000000  \n",
              "mean           0.604096     0.187997     0.104877   126.687944     0.453413  \n",
              "std            0.376487     0.150562     0.145934    34.002473     0.266632  \n",
              "min            0.000000     0.025297     0.023234    29.093000     0.014392  \n",
              "25%            0.164972     0.104052     0.036897    98.000750     0.224617  \n",
              "50%            0.808752     0.123080     0.049594   124.625500     0.446240  \n",
              "75%            0.915472     0.215151     0.088290   151.450000     0.666914  \n",
              "max            0.993134     0.971392     0.966177   250.059000     0.983649  "
            ],
            "text/html": [
              "\n",
              "  <div id=\"df-4e27e9c9-19d4-445e-a85b-9f57b852d814\">\n",
              "    <div class=\"colab-df-container\">\n",
              "      <div>\n",
              "<style scoped>\n",
              "    .dataframe tbody tr th:only-of-type {\n",
              "        vertical-align: middle;\n",
              "    }\n",
              "\n",
              "    .dataframe tbody tr th {\n",
              "        vertical-align: top;\n",
              "    }\n",
              "\n",
              "    .dataframe thead th {\n",
              "        text-align: right;\n",
              "    }\n",
              "</style>\n",
              "<table border=\"1\" class=\"dataframe\">\n",
              "  <thead>\n",
              "    <tr style=\"text-align: right;\">\n",
              "      <th></th>\n",
              "      <th>track_id</th>\n",
              "      <th>acousticness</th>\n",
              "      <th>danceability</th>\n",
              "      <th>energy</th>\n",
              "      <th>instrumentalness</th>\n",
              "      <th>liveness</th>\n",
              "      <th>speechiness</th>\n",
              "      <th>tempo</th>\n",
              "      <th>valence</th>\n",
              "    </tr>\n",
              "  </thead>\n",
              "  <tbody>\n",
              "    <tr>\n",
              "      <th>count</th>\n",
              "      <td>4802.000000</td>\n",
              "      <td>4.802000e+03</td>\n",
              "      <td>4802.000000</td>\n",
              "      <td>4802.000000</td>\n",
              "      <td>4802.000000</td>\n",
              "      <td>4802.000000</td>\n",
              "      <td>4802.000000</td>\n",
              "      <td>4802.000000</td>\n",
              "      <td>4802.000000</td>\n",
              "    </tr>\n",
              "    <tr>\n",
              "      <th>mean</th>\n",
              "      <td>30164.871720</td>\n",
              "      <td>4.870600e-01</td>\n",
              "      <td>0.436556</td>\n",
              "      <td>0.625126</td>\n",
              "      <td>0.604096</td>\n",
              "      <td>0.187997</td>\n",
              "      <td>0.104877</td>\n",
              "      <td>126.687944</td>\n",
              "      <td>0.453413</td>\n",
              "    </tr>\n",
              "    <tr>\n",
              "      <th>std</th>\n",
              "      <td>28592.013796</td>\n",
              "      <td>3.681396e-01</td>\n",
              "      <td>0.183502</td>\n",
              "      <td>0.244051</td>\n",
              "      <td>0.376487</td>\n",
              "      <td>0.150562</td>\n",
              "      <td>0.145934</td>\n",
              "      <td>34.002473</td>\n",
              "      <td>0.266632</td>\n",
              "    </tr>\n",
              "    <tr>\n",
              "      <th>min</th>\n",
              "      <td>2.000000</td>\n",
              "      <td>9.491000e-07</td>\n",
              "      <td>0.051307</td>\n",
              "      <td>0.000279</td>\n",
              "      <td>0.000000</td>\n",
              "      <td>0.025297</td>\n",
              "      <td>0.023234</td>\n",
              "      <td>29.093000</td>\n",
              "      <td>0.014392</td>\n",
              "    </tr>\n",
              "    <tr>\n",
              "      <th>25%</th>\n",
              "      <td>7494.250000</td>\n",
              "      <td>8.351236e-02</td>\n",
              "      <td>0.296047</td>\n",
              "      <td>0.450757</td>\n",
              "      <td>0.164972</td>\n",
              "      <td>0.104052</td>\n",
              "      <td>0.036897</td>\n",
              "      <td>98.000750</td>\n",
              "      <td>0.224617</td>\n",
              "    </tr>\n",
              "    <tr>\n",
              "      <th>50%</th>\n",
              "      <td>20723.500000</td>\n",
              "      <td>5.156888e-01</td>\n",
              "      <td>0.419447</td>\n",
              "      <td>0.648374</td>\n",
              "      <td>0.808752</td>\n",
              "      <td>0.123080</td>\n",
              "      <td>0.049594</td>\n",
              "      <td>124.625500</td>\n",
              "      <td>0.446240</td>\n",
              "    </tr>\n",
              "    <tr>\n",
              "      <th>75%</th>\n",
              "      <td>44240.750000</td>\n",
              "      <td>8.555765e-01</td>\n",
              "      <td>0.565339</td>\n",
              "      <td>0.837016</td>\n",
              "      <td>0.915472</td>\n",
              "      <td>0.215151</td>\n",
              "      <td>0.088290</td>\n",
              "      <td>151.450000</td>\n",
              "      <td>0.666914</td>\n",
              "    </tr>\n",
              "    <tr>\n",
              "      <th>max</th>\n",
              "      <td>124722.000000</td>\n",
              "      <td>9.957965e-01</td>\n",
              "      <td>0.961871</td>\n",
              "      <td>0.999768</td>\n",
              "      <td>0.993134</td>\n",
              "      <td>0.971392</td>\n",
              "      <td>0.966177</td>\n",
              "      <td>250.059000</td>\n",
              "      <td>0.983649</td>\n",
              "    </tr>\n",
              "  </tbody>\n",
              "</table>\n",
              "</div>\n",
              "      <button class=\"colab-df-convert\" onclick=\"convertToInteractive('df-4e27e9c9-19d4-445e-a85b-9f57b852d814')\"\n",
              "              title=\"Convert this dataframe to an interactive table.\"\n",
              "              style=\"display:none;\">\n",
              "        \n",
              "  <svg xmlns=\"http://www.w3.org/2000/svg\" height=\"24px\"viewBox=\"0 0 24 24\"\n",
              "       width=\"24px\">\n",
              "    <path d=\"M0 0h24v24H0V0z\" fill=\"none\"/>\n",
              "    <path d=\"M18.56 5.44l.94 2.06.94-2.06 2.06-.94-2.06-.94-.94-2.06-.94 2.06-2.06.94zm-11 1L8.5 8.5l.94-2.06 2.06-.94-2.06-.94L8.5 2.5l-.94 2.06-2.06.94zm10 10l.94 2.06.94-2.06 2.06-.94-2.06-.94-.94-2.06-.94 2.06-2.06.94z\"/><path d=\"M17.41 7.96l-1.37-1.37c-.4-.4-.92-.59-1.43-.59-.52 0-1.04.2-1.43.59L10.3 9.45l-7.72 7.72c-.78.78-.78 2.05 0 2.83L4 21.41c.39.39.9.59 1.41.59.51 0 1.02-.2 1.41-.59l7.78-7.78 2.81-2.81c.8-.78.8-2.07 0-2.86zM5.41 20L4 18.59l7.72-7.72 1.47 1.35L5.41 20z\"/>\n",
              "  </svg>\n",
              "      </button>\n",
              "      \n",
              "  <style>\n",
              "    .colab-df-container {\n",
              "      display:flex;\n",
              "      flex-wrap:wrap;\n",
              "      gap: 12px;\n",
              "    }\n",
              "\n",
              "    .colab-df-convert {\n",
              "      background-color: #E8F0FE;\n",
              "      border: none;\n",
              "      border-radius: 50%;\n",
              "      cursor: pointer;\n",
              "      display: none;\n",
              "      fill: #1967D2;\n",
              "      height: 32px;\n",
              "      padding: 0 0 0 0;\n",
              "      width: 32px;\n",
              "    }\n",
              "\n",
              "    .colab-df-convert:hover {\n",
              "      background-color: #E2EBFA;\n",
              "      box-shadow: 0px 1px 2px rgba(60, 64, 67, 0.3), 0px 1px 3px 1px rgba(60, 64, 67, 0.15);\n",
              "      fill: #174EA6;\n",
              "    }\n",
              "\n",
              "    [theme=dark] .colab-df-convert {\n",
              "      background-color: #3B4455;\n",
              "      fill: #D2E3FC;\n",
              "    }\n",
              "\n",
              "    [theme=dark] .colab-df-convert:hover {\n",
              "      background-color: #434B5C;\n",
              "      box-shadow: 0px 1px 3px 1px rgba(0, 0, 0, 0.15);\n",
              "      filter: drop-shadow(0px 1px 2px rgba(0, 0, 0, 0.3));\n",
              "      fill: #FFFFFF;\n",
              "    }\n",
              "  </style>\n",
              "\n",
              "      <script>\n",
              "        const buttonEl =\n",
              "          document.querySelector('#df-4e27e9c9-19d4-445e-a85b-9f57b852d814 button.colab-df-convert');\n",
              "        buttonEl.style.display =\n",
              "          google.colab.kernel.accessAllowed ? 'block' : 'none';\n",
              "\n",
              "        async function convertToInteractive(key) {\n",
              "          const element = document.querySelector('#df-4e27e9c9-19d4-445e-a85b-9f57b852d814');\n",
              "          const dataTable =\n",
              "            await google.colab.kernel.invokeFunction('convertToInteractive',\n",
              "                                                     [key], {});\n",
              "          if (!dataTable) return;\n",
              "\n",
              "          const docLinkHtml = 'Like what you see? Visit the ' +\n",
              "            '<a target=\"_blank\" href=https://colab.research.google.com/notebooks/data_table.ipynb>data table notebook</a>'\n",
              "            + ' to learn more about interactive tables.';\n",
              "          element.innerHTML = '';\n",
              "          dataTable['output_type'] = 'display_data';\n",
              "          await google.colab.output.renderOutput(dataTable, element);\n",
              "          const docLink = document.createElement('div');\n",
              "          docLink.innerHTML = docLinkHtml;\n",
              "          element.appendChild(docLink);\n",
              "        }\n",
              "      </script>\n",
              "    </div>\n",
              "  </div>\n",
              "  "
            ]
          },
          "metadata": {},
          "execution_count": 5
        }
      ]
    },
    {
      "cell_type": "markdown",
      "source": [
        "Desarrolla el árbol de decisión utilizando la librería sklearn."
      ],
      "metadata": {
        "id": "YTGmQjHeB3y6"
      }
    },
    {
      "cell_type": "code",
      "source": [
        "from sklearn.tree import DecisionTreeClassifier\n",
        "from sklearn.model_selection import train_test_split"
      ],
      "metadata": {
        "id": "CMKAlfmlB8Ah"
      },
      "execution_count": 6,
      "outputs": []
    },
    {
      "cell_type": "markdown",
      "source": [
        "en la X agregamos todos los datos que son de interes para las predicciones en este caso omitimos la variable track_id ya que no nos sirviria y la variable genre_top ya que es la variable a predecir\n",
        "en la Y agregamos la variables que de nos interesa predecir en este caso es la variable genre_top"
      ],
      "metadata": {
        "id": "gLnxJTEfJc3w"
      }
    },
    {
      "cell_type": "code",
      "source": [
        "X = df.drop(['track_id', 'genre_top'], axis=1)\n",
        "y = df.genre_top"
      ],
      "metadata": {
        "id": "jxEw7YquDTHJ"
      },
      "execution_count": 8,
      "outputs": []
    },
    {
      "cell_type": "markdown",
      "source": [
        "dividimos los datasets en subgrupos de entrenamiento y validación para poder entrenar el modelo correctamente"
      ],
      "metadata": {
        "id": "QWXVh0p6KmHz"
      }
    },
    {
      "cell_type": "code",
      "source": [
        "X_train, X_test, y_train, y_test = train_test_split(X,y,stratify=y)\n",
        "\n",
        "tree = DecisionTreeClassifier(random_state=42)\n",
        "\n",
        "tree.fit(X_train, y_train)"
      ],
      "metadata": {
        "colab": {
          "base_uri": "https://localhost:8080/"
        },
        "id": "SH3pb8xBKmUq",
        "outputId": "8302f611-5076-4d08-f3ae-9159197bd52e"
      },
      "execution_count": 9,
      "outputs": [
        {
          "output_type": "execute_result",
          "data": {
            "text/plain": [
              "DecisionTreeClassifier(random_state=42)"
            ]
          },
          "metadata": {},
          "execution_count": 9
        }
      ]
    },
    {
      "cell_type": "markdown",
      "source": [
        "Crea una clase para ingresar variables para predicciones."
      ],
      "metadata": {
        "id": "eG89DqJlPRPz"
      }
    },
    {
      "cell_type": "code",
      "source": [
        "from pydantic import BaseModel"
      ],
      "metadata": {
        "id": "W7QysnXoPUT7"
      },
      "execution_count": 10,
      "outputs": []
    },
    {
      "cell_type": "code",
      "source": [
        "class music(BaseModel): #creamos la clase\n",
        "    acousticness: float \n",
        "    danceability: float \n",
        "    energy: float \n",
        "    instrumentalness: float \n",
        "    liveness: float \n",
        "    speechiness: float \n",
        "    tempo: float \n",
        "    valence: float\n",
        "    class Config:\n",
        "        schema_extra = {   \n",
        "            \"example\": { #ingresamos valores para la predeción\n",
        "                \"acousticness\": 0.968785317, \n",
        "                \"danceability\": 0.3529461312, \n",
        "                \"energy\": 0.7443325625,\n",
        "                \"instrumentalness\": 0.9004301244,\n",
        "                \"liveness\": 0.3542305191,\n",
        "                \"speechiness\": 0.4626074726,\n",
        "                \"tempo\": 91.912,\n",
        "                \"valence\": 0.4905165083\n",
        "            }\n",
        "        }"
      ],
      "metadata": {
        "id": "6hFpHmRcPjDJ"
      },
      "execution_count": 34,
      "outputs": []
    },
    {
      "cell_type": "markdown",
      "source": [
        "Guarda el modelo utilizando Pickle.\n"
      ],
      "metadata": {
        "id": "u-UDL9nPQaOt"
      }
    },
    {
      "cell_type": "code",
      "source": [
        "import pickle"
      ],
      "metadata": {
        "id": "0S4jQdh_RwzH"
      },
      "execution_count": 23,
      "outputs": []
    },
    {
      "cell_type": "code",
      "source": [
        "Pkl_Filename = \"model_tree.pkl\"\n",
        "\n",
        "with open(Pkl_Filename, 'wb') as file:\n",
        "    pickle.dump(tree, file)"
      ],
      "metadata": {
        "id": "2cnZALaISxxh"
      },
      "execution_count": 35,
      "outputs": []
    },
    {
      "cell_type": "markdown",
      "source": [
        "Crea una API con FastAPI\n",
        "Carga el modelo en la API, crea un endpoint de acceso donde si la API carga muestre el mensaje “PUNTO DE ACCESO API”"
      ],
      "metadata": {
        "id": "_fsow3-RS8Lp"
      }
    },
    {
      "cell_type": "markdown",
      "source": [
        "importamos la libreria FastAPI"
      ],
      "metadata": {
        "id": "EWQ52MtAUdWC"
      }
    },
    {
      "cell_type": "code",
      "source": [
        "from fastapi import FastAPI"
      ],
      "metadata": {
        "id": "QCMMQZ7bUcNn"
      },
      "execution_count": 33,
      "outputs": []
    },
    {
      "cell_type": "code",
      "source": [
        "app = FastAPI() #Definimos que utilizaremos FastAPI en la variable app.\n",
        "\n",
        "@app.on_event(\"startup\") #Con esto creamos la orden de que la siguiente función debe correrse previo al arranque de la app.\n",
        "def load_model(): #Carga el modelo\n",
        "    global model\n",
        "    model = pickle.load(open(\"model_tree.pkl\", \"rb\"))  #Usamos pickle para deserializar, rb = read binary o lee binario.\n",
        "\n",
        "@app.get('/') #Si se logró deserializar y entramos debería aparecer esta indicación.\n",
        "def index():\n",
        "    return {'PUNTO DE ACCESO API'}\n",
        "\n",
        "#Lo siguiente da la indicación de qué es lo que el usuario debe ingresar como datos para crear una predicción. \n",
        "#Lo cual corresponde a lo que se definió en la herramienta de verificación de la API, clase.\n",
        "\n",
        "@app.post('/predict')\n",
        "def get_music_category(data: music):\n",
        "    received = data.dict()\n",
        "    acousticness = received['acousticness']\n",
        "    danceability = received['danceability']\n",
        "    energy = received['energy']\n",
        "    instrumentalness = received['instrumentalness']\n",
        "    liveness = received['liveness']\n",
        "    speechiness = received['speechiness']\n",
        "    tempo = received['tempo']\n",
        "    valence = received['valence']\n",
        "   #Se utilizan los datos anteriores para crear una predicción\n",
        "    pred_name = model.predict([[acousticness, danceability, energy,\n",
        "                                instrumentalness,  liveness, speechiness, tempo,valence]]).tolist()[0]\n",
        "    return {'prediction': pred_name} #Y regresa esa predicción."
      ],
      "metadata": {
        "id": "dLEKAeUEXMX_"
      },
      "execution_count": 37,
      "outputs": []
    },
    {
      "cell_type": "markdown",
      "source": [
        "librerias para utilizar API\n"
      ],
      "metadata": {
        "id": "LKmsZbY8a9ZJ"
      }
    },
    {
      "cell_type": "code",
      "source": [
        "!pip install pyngrok\n",
        "!pip install ngrok\n",
        "!pip install uvicorn\n",
        "!pip install nest-asyncio"
      ],
      "metadata": {
        "id": "e2Y90coubGVR"
      },
      "execution_count": null,
      "outputs": []
    },
    {
      "cell_type": "code",
      "source": [
        "! ngrok authtoken 2DL5LdvOwndrgTQO5QliisS5YJj_6sZZnxZm44z39kZwHLo8Q"
      ],
      "metadata": {
        "colab": {
          "base_uri": "https://localhost:8080/"
        },
        "id": "a_XJyBvVdpm-",
        "outputId": "d3561fa8-6a26-4d52-f815-7b89e43df88f"
      },
      "execution_count": 55,
      "outputs": [
        {
          "output_type": "stream",
          "name": "stdout",
          "text": [
            "Authtoken saved to configuration file: /root/.ngrok2/ngrok.yml\n"
          ]
        }
      ]
    },
    {
      "cell_type": "markdown",
      "source": [
        "Simula acceder a la API y captura el resultado en pantalla."
      ],
      "metadata": {
        "id": "ESt1noMTcjyy"
      }
    },
    {
      "cell_type": "code",
      "source": [
        "from pyngrok import ngrok\n",
        "import uvicorn\n",
        "import nest_asyncio\n",
        "\n",
        "#Creamos el túnel de conexión.\n",
        "\n",
        "ngrok_tunnel = ngrok.connect(8000)\n",
        "\n",
        "#Mostrar el URL para acceder.\n",
        "print('Public URL:', ngrok_tunnel.public_url)\n",
        "\n",
        "#Conectar la API\n",
        "nest_asyncio.apply()\n",
        "uvicorn.run(app, port=8000)"
      ],
      "metadata": {
        "id": "L43IQTKhb7Cp"
      },
      "execution_count": null,
      "outputs": []
    },
    {
      "cell_type": "markdown",
      "source": [
        "![Captura.PNG](data:image/png;base64,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)"
      ],
      "metadata": {
        "id": "lOeL__ruktl_"
      }
    },
    {
      "cell_type": "markdown",
      "source": [
        "ejecutamos la siguiente funcion para cerrar la conexion con el tunnel"
      ],
      "metadata": {
        "id": "X9MnzyfKb7cS"
      }
    },
    {
      "cell_type": "code",
      "source": [
        "ngrok.kill()"
      ],
      "metadata": {
        "id": "jlsxiyAncU0B"
      },
      "execution_count": 54,
      "outputs": []
    }
  ]
}